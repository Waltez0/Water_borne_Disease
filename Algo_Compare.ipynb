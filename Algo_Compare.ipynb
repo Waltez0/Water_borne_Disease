{
  "nbformat": 4,
  "nbformat_minor": 0,
  "metadata": {
    "kernelspec": {
      "display_name": "Python 3",
      "language": "python",
      "name": "python3"
    },
    "language_info": {
      "codemirror_mode": {
        "name": "ipython",
        "version": 3
      },
      "file_extension": ".py",
      "mimetype": "text/x-python",
      "name": "python",
      "nbconvert_exporter": "python",
      "pygments_lexer": "ipython3",
      "version": "3.7.6"
    },
    "colab": {
      "name": "Algo_Compare.ipynb",
      "provenance": []
    }
  },
  "cells": [
    {
      "cell_type": "code",
      "metadata": {
        "id": "c5fpi1LUXvcA"
      },
      "source": [
        "import pandas as pd\n",
        "from sklearn.model_selection import train_test_split\n",
        "from sklearn import metrics\n",
        "\n",
        "data = pd.read_csv(\"hepatitis.csv\")\n",
        "train = data.drop('liver_big', axis = 1)\n",
        "target = data.liver_big\n",
        "\n",
        "X_train, X_test, y_train, y_test = train_test_split( train, target, test_size = 0.3, random_state = 109 )"
      ],
      "execution_count": 7,
      "outputs": []
    },
    {
      "cell_type": "code",
      "metadata": {
        "id": "4qIKIiIcXvcN",
        "outputId": "a154affa-089e-4eb4-e404-6582f90912e0",
        "colab": {
          "base_uri": "https://localhost:8080/",
          "height": 147
        }
      },
      "source": [
        "# SVM Algorithm\n",
        "from sklearn import svm\n",
        "clf = svm.SVC( kernel = 'linear' )\n",
        "clf.fit(X_train, y_train)\n",
        "y_pred = clf.predict(X_test)\n",
        "cm_test = metrics.confusion_matrix(y_pred, y_test)\n",
        "y_pred_train = clf.predict(X_train)\n",
        "cm_train = metrics.confusion_matrix(y_pred_train, y_train)\n",
        "\n",
        "print('Accuracy for training set for SVM = {}'.format((cm_train[0][0] + cm_train[1][1])/len(y_train)))\n",
        "print('Accuracy for test set for SVM = {}'.format((cm_test[0][0] + cm_test[1][1])/len(y_test)))\n",
        "print( \"Precision:\", metrics.precision_score(y_test, y_pred) )\n",
        "print( \"Recall:\", metrics.recall_score(y_test, y_pred) )"
      ],
      "execution_count": 8,
      "outputs": [
        {
          "output_type": "stream",
          "text": [
            "Accuracy for training set for SVM = 0.8686868686868687\n",
            "Accuracy for test set for SVM = 0.7209302325581395\n",
            "Precision: 0.0\n",
            "Recall: 0.0\n"
          ],
          "name": "stdout"
        },
        {
          "output_type": "stream",
          "text": [
            "/usr/local/lib/python3.6/dist-packages/sklearn/metrics/_classification.py:1272: UndefinedMetricWarning: Precision is ill-defined and being set to 0.0 due to no predicted samples. Use `zero_division` parameter to control this behavior.\n",
            "  _warn_prf(average, modifier, msg_start, len(result))\n"
          ],
          "name": "stderr"
        }
      ]
    },
    {
      "cell_type": "code",
      "metadata": {
        "id": "-sxNueb5XvcZ",
        "outputId": "64f16781-058a-4a40-80cd-4312d2ab13a8",
        "colab": {
          "base_uri": "https://localhost:8080/",
          "height": 90
        }
      },
      "source": [
        "# Naive Bayes Algorithm\n",
        "from sklearn.naive_bayes import GaussianNB\n",
        "classifier = GaussianNB()\n",
        "classifier.fit(X_train, y_train)\n",
        "y_pred = classifier.predict(X_test)\n",
        "cm_test = metrics.confusion_matrix(y_pred, y_test)\n",
        "y_pred_train = classifier.predict(X_train)\n",
        "cm_train = metrics.confusion_matrix(y_pred_train, y_train)\n",
        "\n",
        "print('Accuracy for training set for Naive Bayes = {}'.format((cm_train[0][0] + cm_train[1][1])/len(y_train)))\n",
        "print('Accuracy for test set for Naive Bayes = {}'.format((cm_test[0][0] + cm_test[1][1])/len(y_test)))\n",
        "print( \"Precision:\", metrics.precision_score(y_test, y_pred) )\n",
        "print( \"Recall:\", metrics.recall_score(y_test, y_pred) )"
      ],
      "execution_count": 9,
      "outputs": [
        {
          "output_type": "stream",
          "text": [
            "Accuracy for training set for Naive Bayes = 0.8282828282828283\n",
            "Accuracy for test set for Naive Bayes = 0.6511627906976745\n",
            "Precision: 0.38461538461538464\n",
            "Recall: 0.4166666666666667\n"
          ],
          "name": "stdout"
        }
      ]
    },
    {
      "cell_type": "code",
      "metadata": {
        "id": "tyvYuWiSXvci",
        "outputId": "78d9e922-0562-4299-854f-490232dcc175",
        "colab": {
          "base_uri": "https://localhost:8080/",
          "height": 147
        }
      },
      "source": [
        "# kNN Algorithm\n",
        "from sklearn.neighbors import KNeighborsClassifier\n",
        "classifier = KNeighborsClassifier()\n",
        "classifier.fit(X_train, y_train)\n",
        "y_pred = classifier.predict(X_test)\n",
        "cm_test = metrics.confusion_matrix(y_pred, y_test)\n",
        "y_pred_train = classifier.predict(X_train)\n",
        "cm_train = metrics.confusion_matrix(y_pred_train, y_train)\n",
        "\n",
        "print('Accuracy for training set for kNN = {}'.format((cm_train[0][0] + cm_train[1][1])/len(y_train)))\n",
        "print('Accuracy for test set for kNN = {}'.format((cm_test[0][0] + cm_test[1][1])/len(y_test)))\n",
        "print( \"Precision:\", metrics.precision_score(y_test, y_pred) )\n",
        "print( \"Recall:\", metrics.recall_score(y_test, y_pred) )"
      ],
      "execution_count": 10,
      "outputs": [
        {
          "output_type": "stream",
          "text": [
            "Accuracy for training set for kNN = 0.8686868686868687\n",
            "Accuracy for test set for kNN = 0.7209302325581395\n",
            "Precision: 0.0\n",
            "Recall: 0.0\n"
          ],
          "name": "stdout"
        },
        {
          "output_type": "stream",
          "text": [
            "/usr/local/lib/python3.6/dist-packages/sklearn/metrics/_classification.py:1272: UndefinedMetricWarning: Precision is ill-defined and being set to 0.0 due to no predicted samples. Use `zero_division` parameter to control this behavior.\n",
            "  _warn_prf(average, modifier, msg_start, len(result))\n"
          ],
          "name": "stderr"
        }
      ]
    },
    {
      "cell_type": "code",
      "metadata": {
        "id": "0kSxMXG0Xvcp",
        "outputId": "97a2bcdb-9726-42a4-b210-d698559e3dfb",
        "colab": {
          "base_uri": "https://localhost:8080/",
          "height": 90
        }
      },
      "source": [
        "# Decision Tree Algorithm\n",
        "from sklearn.tree import DecisionTreeClassifier\n",
        "classifier = DecisionTreeClassifier()\n",
        "classifier.fit(X_train, y_train)\n",
        "y_pred = classifier.predict(X_test)\n",
        "cm_test = metrics.confusion_matrix(y_pred, y_test)\n",
        "y_pred_train = classifier.predict(X_train)\n",
        "cm_train = metrics.confusion_matrix(y_pred_train, y_train)\n",
        "\n",
        "print('Accuracy for training set for Decision Tree = {}'.format((cm_train[0][0] + cm_train[1][1])/len(y_train)))\n",
        "print('Accuracy for test set for Decision Tree = {}'.format((cm_test[0][0] + cm_test[1][1])/len(y_test)))\n",
        "print( \"Precision:\", metrics.precision_score(y_test, y_pred) )\n",
        "print( \"Recall:\", metrics.recall_score(y_test, y_pred) )"
      ],
      "execution_count": 11,
      "outputs": [
        {
          "output_type": "stream",
          "text": [
            "Accuracy for training set for Decision Tree = 1.0\n",
            "Accuracy for test set for Decision Tree = 0.7209302325581395\n",
            "Precision: 0.5\n",
            "Recall: 0.5\n"
          ],
          "name": "stdout"
        }
      ]
    },
    {
      "cell_type": "code",
      "metadata": {
        "id": "giLLO9fOXvcx"
      },
      "source": [
        ""
      ],
      "execution_count": 11,
      "outputs": []
    }
  ]
}